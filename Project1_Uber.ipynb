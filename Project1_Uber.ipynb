{
 "cells": [
  {
   "cell_type": "code",
   "execution_count": 1,
   "id": "dfd8c788-5971-4ff4-a010-fc7b18536c76",
   "metadata": {},
   "outputs": [
    {
     "name": "stderr",
     "output_type": "stream",
     "text": [
      "Matplotlib is building the font cache; this may take a moment.\n"
     ]
    }
   ],
   "source": [
    "import pandas as pd\n",
    "import numpy as np\n",
    "import seaborn as sns\n",
    "import matplotlib.pyplot as plt"
   ]
  },
  {
   "cell_type": "code",
   "execution_count": null,
   "id": "4d2100c4-3d69-4958-a6f0-ffba1199a30f",
   "metadata": {},
   "outputs": [],
   "source": []
  },
  {
   "cell_type": "code",
   "execution_count": 2,
   "id": "10fa1037-9cf2-4110-8e9d-f3b9cff69539",
   "metadata": {},
   "outputs": [],
   "source": [
    "import os\n"
   ]
  },
  {
   "cell_type": "code",
   "execution_count": 4,
   "id": "5c4ac0bf-b963-4c45-bcb2-1ac5baa6937e",
   "metadata": {},
   "outputs": [
    {
     "data": {
      "text/plain": [
       "['.DS_Store',\n",
       " 'Datasets',\n",
       " '.ipynb_checkpoints',\n",
       " 'Project1_Uber.ipynb',\n",
       " 'uber_analysis_Project1.ipynb']"
      ]
     },
     "execution_count": 4,
     "metadata": {},
     "output_type": "execute_result"
    }
   ],
   "source": [
    "os.listdir(\"/Users/soumya/Desktop/Data stuff/UdemyCourse/Project1/Uber\")"
   ]
  },
  {
   "cell_type": "code",
   "execution_count": 5,
   "id": "f7c717ef-18fc-45b8-8914-f48964d83709",
   "metadata": {},
   "outputs": [],
   "source": [
    "df = pd.read_csv(\"/Users/soumya/Desktop/Data stuff/UdemyCourse/Project1/Uber/Datasets/uber-raw-data-janjune-15_sample.csv\")\n"
   ]
  },
  {
   "cell_type": "code",
   "execution_count": 6,
   "id": "5dd2d6bf-e2d3-4b4b-9eff-f28b2ed54c86",
   "metadata": {},
   "outputs": [
    {
     "data": {
      "text/html": [
       "<div>\n",
       "<style scoped>\n",
       "    .dataframe tbody tr th:only-of-type {\n",
       "        vertical-align: middle;\n",
       "    }\n",
       "\n",
       "    .dataframe tbody tr th {\n",
       "        vertical-align: top;\n",
       "    }\n",
       "\n",
       "    .dataframe thead th {\n",
       "        text-align: right;\n",
       "    }\n",
       "</style>\n",
       "<table border=\"1\" class=\"dataframe\">\n",
       "  <thead>\n",
       "    <tr style=\"text-align: right;\">\n",
       "      <th></th>\n",
       "      <th>Dispatching_base_num</th>\n",
       "      <th>Pickup_date</th>\n",
       "      <th>Affiliated_base_num</th>\n",
       "      <th>locationID</th>\n",
       "    </tr>\n",
       "  </thead>\n",
       "  <tbody>\n",
       "    <tr>\n",
       "      <th>0</th>\n",
       "      <td>B02617</td>\n",
       "      <td>2015-05-02 21:43:00</td>\n",
       "      <td>B02764</td>\n",
       "      <td>237</td>\n",
       "    </tr>\n",
       "    <tr>\n",
       "      <th>1</th>\n",
       "      <td>B02682</td>\n",
       "      <td>2015-01-20 19:52:59</td>\n",
       "      <td>B02682</td>\n",
       "      <td>231</td>\n",
       "    </tr>\n",
       "    <tr>\n",
       "      <th>2</th>\n",
       "      <td>B02617</td>\n",
       "      <td>2015-03-19 20:26:00</td>\n",
       "      <td>B02617</td>\n",
       "      <td>161</td>\n",
       "    </tr>\n",
       "    <tr>\n",
       "      <th>3</th>\n",
       "      <td>B02764</td>\n",
       "      <td>2015-04-10 17:38:00</td>\n",
       "      <td>B02764</td>\n",
       "      <td>107</td>\n",
       "    </tr>\n",
       "    <tr>\n",
       "      <th>4</th>\n",
       "      <td>B02764</td>\n",
       "      <td>2015-03-23 07:03:00</td>\n",
       "      <td>B00111</td>\n",
       "      <td>140</td>\n",
       "    </tr>\n",
       "  </tbody>\n",
       "</table>\n",
       "</div>"
      ],
      "text/plain": [
       "  Dispatching_base_num          Pickup_date Affiliated_base_num  locationID\n",
       "0               B02617  2015-05-02 21:43:00              B02764         237\n",
       "1               B02682  2015-01-20 19:52:59              B02682         231\n",
       "2               B02617  2015-03-19 20:26:00              B02617         161\n",
       "3               B02764  2015-04-10 17:38:00              B02764         107\n",
       "4               B02764  2015-03-23 07:03:00              B00111         140"
      ]
     },
     "execution_count": 6,
     "metadata": {},
     "output_type": "execute_result"
    }
   ],
   "source": [
    "df.head()"
   ]
  },
  {
   "cell_type": "code",
   "execution_count": 8,
   "id": "e487ffde-8a6e-4b4d-8062-350a0fec6705",
   "metadata": {},
   "outputs": [
    {
     "data": {
      "text/plain": [
       "(100000, 4)"
      ]
     },
     "execution_count": 8,
     "metadata": {},
     "output_type": "execute_result"
    }
   ],
   "source": [
    "df.shape"
   ]
  },
  {
   "cell_type": "code",
   "execution_count": 11,
   "id": "717b4996-99ba-4ec0-a7bc-cedf2456a88d",
   "metadata": {},
   "outputs": [
    {
     "data": {
      "text/plain": [
       "0        False\n",
       "1        False\n",
       "2        False\n",
       "3        False\n",
       "4        False\n",
       "         ...  \n",
       "99995    False\n",
       "99996    False\n",
       "99997    False\n",
       "99998    False\n",
       "99999    False\n",
       "Length: 100000, dtype: bool"
      ]
     },
     "execution_count": 11,
     "metadata": {},
     "output_type": "execute_result"
    }
   ],
   "source": [
    "df.duplicated()"
   ]
  },
  {
   "cell_type": "code",
   "execution_count": 12,
   "id": "d85c9509-a56e-4aa7-a9bc-de24bac05fe9",
   "metadata": {},
   "outputs": [],
   "source": [
    "duplicate_rows = df[df.duplicated(keep=False)]"
   ]
  },
  {
   "cell_type": "code",
   "execution_count": 13,
   "id": "94ef67a9-2a7d-4c63-92a6-c119ea0ad9e5",
   "metadata": {},
   "outputs": [
    {
     "data": {
      "text/html": [
       "<div>\n",
       "<style scoped>\n",
       "    .dataframe tbody tr th:only-of-type {\n",
       "        vertical-align: middle;\n",
       "    }\n",
       "\n",
       "    .dataframe tbody tr th {\n",
       "        vertical-align: top;\n",
       "    }\n",
       "\n",
       "    .dataframe thead th {\n",
       "        text-align: right;\n",
       "    }\n",
       "</style>\n",
       "<table border=\"1\" class=\"dataframe\">\n",
       "  <thead>\n",
       "    <tr style=\"text-align: right;\">\n",
       "      <th></th>\n",
       "      <th>Dispatching_base_num</th>\n",
       "      <th>Pickup_date</th>\n",
       "      <th>Affiliated_base_num</th>\n",
       "      <th>locationID</th>\n",
       "    </tr>\n",
       "  </thead>\n",
       "  <tbody>\n",
       "    <tr>\n",
       "      <th>357</th>\n",
       "      <td>B02682</td>\n",
       "      <td>2015-04-20 17:51:00</td>\n",
       "      <td>B02682</td>\n",
       "      <td>143</td>\n",
       "    </tr>\n",
       "    <tr>\n",
       "      <th>1557</th>\n",
       "      <td>B02764</td>\n",
       "      <td>2015-04-19 01:53:00</td>\n",
       "      <td>B02764</td>\n",
       "      <td>144</td>\n",
       "    </tr>\n",
       "    <tr>\n",
       "      <th>1812</th>\n",
       "      <td>B02682</td>\n",
       "      <td>2015-04-18 10:48:00</td>\n",
       "      <td>B02682</td>\n",
       "      <td>246</td>\n",
       "    </tr>\n",
       "    <tr>\n",
       "      <th>2209</th>\n",
       "      <td>B02682</td>\n",
       "      <td>2015-06-23 19:11:00</td>\n",
       "      <td>B02682</td>\n",
       "      <td>164</td>\n",
       "    </tr>\n",
       "    <tr>\n",
       "      <th>5167</th>\n",
       "      <td>B02682</td>\n",
       "      <td>2015-03-22 00:27:00</td>\n",
       "      <td>B02682</td>\n",
       "      <td>249</td>\n",
       "    </tr>\n",
       "    <tr>\n",
       "      <th>...</th>\n",
       "      <td>...</td>\n",
       "      <td>...</td>\n",
       "      <td>...</td>\n",
       "      <td>...</td>\n",
       "    </tr>\n",
       "    <tr>\n",
       "      <th>95302</th>\n",
       "      <td>B02682</td>\n",
       "      <td>2015-04-18 10:48:00</td>\n",
       "      <td>B02682</td>\n",
       "      <td>246</td>\n",
       "    </tr>\n",
       "    <tr>\n",
       "      <th>95779</th>\n",
       "      <td>B02764</td>\n",
       "      <td>2015-06-03 23:25:00</td>\n",
       "      <td>B02764</td>\n",
       "      <td>48</td>\n",
       "    </tr>\n",
       "    <tr>\n",
       "      <th>96055</th>\n",
       "      <td>B02764</td>\n",
       "      <td>2015-03-21 19:17:00</td>\n",
       "      <td>B02764</td>\n",
       "      <td>211</td>\n",
       "    </tr>\n",
       "    <tr>\n",
       "      <th>97808</th>\n",
       "      <td>B02764</td>\n",
       "      <td>2015-03-23 19:49:00</td>\n",
       "      <td>B02764</td>\n",
       "      <td>161</td>\n",
       "    </tr>\n",
       "    <tr>\n",
       "      <th>99829</th>\n",
       "      <td>B02764</td>\n",
       "      <td>2015-05-09 23:28:00</td>\n",
       "      <td>B02764</td>\n",
       "      <td>256</td>\n",
       "    </tr>\n",
       "  </tbody>\n",
       "</table>\n",
       "<p>108 rows × 4 columns</p>\n",
       "</div>"
      ],
      "text/plain": [
       "      Dispatching_base_num          Pickup_date Affiliated_base_num  \\\n",
       "357                 B02682  2015-04-20 17:51:00              B02682   \n",
       "1557                B02764  2015-04-19 01:53:00              B02764   \n",
       "1812                B02682  2015-04-18 10:48:00              B02682   \n",
       "2209                B02682  2015-06-23 19:11:00              B02682   \n",
       "5167                B02682  2015-03-22 00:27:00              B02682   \n",
       "...                    ...                  ...                 ...   \n",
       "95302               B02682  2015-04-18 10:48:00              B02682   \n",
       "95779               B02764  2015-06-03 23:25:00              B02764   \n",
       "96055               B02764  2015-03-21 19:17:00              B02764   \n",
       "97808               B02764  2015-03-23 19:49:00              B02764   \n",
       "99829               B02764  2015-05-09 23:28:00              B02764   \n",
       "\n",
       "       locationID  \n",
       "357           143  \n",
       "1557          144  \n",
       "1812          246  \n",
       "2209          164  \n",
       "5167          249  \n",
       "...           ...  \n",
       "95302         246  \n",
       "95779          48  \n",
       "96055         211  \n",
       "97808         161  \n",
       "99829         256  \n",
       "\n",
       "[108 rows x 4 columns]"
      ]
     },
     "execution_count": 13,
     "metadata": {},
     "output_type": "execute_result"
    }
   ],
   "source": [
    "duplicate_rows"
   ]
  },
  {
   "cell_type": "code",
   "execution_count": 14,
   "id": "718f3b7b-3a7a-44ec-b6bc-b2cf9da17383",
   "metadata": {},
   "outputs": [
    {
     "data": {
      "text/plain": [
       "np.int64(54)"
      ]
     },
     "execution_count": 14,
     "metadata": {},
     "output_type": "execute_result"
    }
   ],
   "source": [
    "df.duplicated().sum()"
   ]
  },
  {
   "cell_type": "code",
   "execution_count": 20,
   "id": "e6677cbc-31af-4f59-b589-815413845bd4",
   "metadata": {},
   "outputs": [],
   "source": [
    "df.drop_duplicates(inplace=True)"
   ]
  },
  {
   "cell_type": "code",
   "execution_count": 16,
   "id": "5f10ee9b-f4de-4522-b80f-8869245a159e",
   "metadata": {},
   "outputs": [
    {
     "data": {
      "text/plain": [
       "np.int64(54)"
      ]
     },
     "execution_count": 16,
     "metadata": {},
     "output_type": "execute_result"
    }
   ],
   "source": [
    "df.duplicated().sum()"
   ]
  },
  {
   "cell_type": "code",
   "execution_count": 21,
   "id": "499c17ab-ed50-4e38-8ea5-9009f95b5405",
   "metadata": {},
   "outputs": [
    {
     "data": {
      "text/html": [
       "<div>\n",
       "<style scoped>\n",
       "    .dataframe tbody tr th:only-of-type {\n",
       "        vertical-align: middle;\n",
       "    }\n",
       "\n",
       "    .dataframe tbody tr th {\n",
       "        vertical-align: top;\n",
       "    }\n",
       "\n",
       "    .dataframe thead th {\n",
       "        text-align: right;\n",
       "    }\n",
       "</style>\n",
       "<table border=\"1\" class=\"dataframe\">\n",
       "  <thead>\n",
       "    <tr style=\"text-align: right;\">\n",
       "      <th></th>\n",
       "      <th>Dispatching_base_num</th>\n",
       "      <th>Pickup_date</th>\n",
       "      <th>Affiliated_base_num</th>\n",
       "      <th>locationID</th>\n",
       "    </tr>\n",
       "  </thead>\n",
       "  <tbody>\n",
       "    <tr>\n",
       "      <th>357</th>\n",
       "      <td>B02682</td>\n",
       "      <td>2015-04-20 17:51:00</td>\n",
       "      <td>B02682</td>\n",
       "      <td>143</td>\n",
       "    </tr>\n",
       "    <tr>\n",
       "      <th>1557</th>\n",
       "      <td>B02764</td>\n",
       "      <td>2015-04-19 01:53:00</td>\n",
       "      <td>B02764</td>\n",
       "      <td>144</td>\n",
       "    </tr>\n",
       "    <tr>\n",
       "      <th>1812</th>\n",
       "      <td>B02682</td>\n",
       "      <td>2015-04-18 10:48:00</td>\n",
       "      <td>B02682</td>\n",
       "      <td>246</td>\n",
       "    </tr>\n",
       "    <tr>\n",
       "      <th>2209</th>\n",
       "      <td>B02682</td>\n",
       "      <td>2015-06-23 19:11:00</td>\n",
       "      <td>B02682</td>\n",
       "      <td>164</td>\n",
       "    </tr>\n",
       "    <tr>\n",
       "      <th>5167</th>\n",
       "      <td>B02682</td>\n",
       "      <td>2015-03-22 00:27:00</td>\n",
       "      <td>B02682</td>\n",
       "      <td>249</td>\n",
       "    </tr>\n",
       "    <tr>\n",
       "      <th>...</th>\n",
       "      <td>...</td>\n",
       "      <td>...</td>\n",
       "      <td>...</td>\n",
       "      <td>...</td>\n",
       "    </tr>\n",
       "    <tr>\n",
       "      <th>95302</th>\n",
       "      <td>B02682</td>\n",
       "      <td>2015-04-18 10:48:00</td>\n",
       "      <td>B02682</td>\n",
       "      <td>246</td>\n",
       "    </tr>\n",
       "    <tr>\n",
       "      <th>95779</th>\n",
       "      <td>B02764</td>\n",
       "      <td>2015-06-03 23:25:00</td>\n",
       "      <td>B02764</td>\n",
       "      <td>48</td>\n",
       "    </tr>\n",
       "    <tr>\n",
       "      <th>96055</th>\n",
       "      <td>B02764</td>\n",
       "      <td>2015-03-21 19:17:00</td>\n",
       "      <td>B02764</td>\n",
       "      <td>211</td>\n",
       "    </tr>\n",
       "    <tr>\n",
       "      <th>97808</th>\n",
       "      <td>B02764</td>\n",
       "      <td>2015-03-23 19:49:00</td>\n",
       "      <td>B02764</td>\n",
       "      <td>161</td>\n",
       "    </tr>\n",
       "    <tr>\n",
       "      <th>99829</th>\n",
       "      <td>B02764</td>\n",
       "      <td>2015-05-09 23:28:00</td>\n",
       "      <td>B02764</td>\n",
       "      <td>256</td>\n",
       "    </tr>\n",
       "  </tbody>\n",
       "</table>\n",
       "<p>108 rows × 4 columns</p>\n",
       "</div>"
      ],
      "text/plain": [
       "      Dispatching_base_num          Pickup_date Affiliated_base_num  \\\n",
       "357                 B02682  2015-04-20 17:51:00              B02682   \n",
       "1557                B02764  2015-04-19 01:53:00              B02764   \n",
       "1812                B02682  2015-04-18 10:48:00              B02682   \n",
       "2209                B02682  2015-06-23 19:11:00              B02682   \n",
       "5167                B02682  2015-03-22 00:27:00              B02682   \n",
       "...                    ...                  ...                 ...   \n",
       "95302               B02682  2015-04-18 10:48:00              B02682   \n",
       "95779               B02764  2015-06-03 23:25:00              B02764   \n",
       "96055               B02764  2015-03-21 19:17:00              B02764   \n",
       "97808               B02764  2015-03-23 19:49:00              B02764   \n",
       "99829               B02764  2015-05-09 23:28:00              B02764   \n",
       "\n",
       "       locationID  \n",
       "357           143  \n",
       "1557          144  \n",
       "1812          246  \n",
       "2209          164  \n",
       "5167          249  \n",
       "...           ...  \n",
       "95302         246  \n",
       "95779          48  \n",
       "96055         211  \n",
       "97808         161  \n",
       "99829         256  \n",
       "\n",
       "[108 rows x 4 columns]"
      ]
     },
     "execution_count": 21,
     "metadata": {},
     "output_type": "execute_result"
    }
   ],
   "source": [
    "duplicate_rows"
   ]
  },
  {
   "cell_type": "code",
   "execution_count": 22,
   "id": "e63ca517-bd61-4873-ace2-d3b421f24af2",
   "metadata": {},
   "outputs": [
    {
     "data": {
      "text/plain": [
       "(99946, 4)"
      ]
     },
     "execution_count": 22,
     "metadata": {},
     "output_type": "execute_result"
    }
   ],
   "source": [
    "df.shape"
   ]
  },
  {
   "cell_type": "code",
   "execution_count": 24,
   "id": "6956b1ea-0c65-4247-b003-0e2cd5eebe1c",
   "metadata": {},
   "outputs": [
    {
     "data": {
      "text/plain": [
       "Dispatching_base_num    object\n",
       "Pickup_date             object\n",
       "Affiliated_base_num     object\n",
       "locationID               int64\n",
       "dtype: object"
      ]
     },
     "execution_count": 24,
     "metadata": {},
     "output_type": "execute_result"
    }
   ],
   "source": [
    "df.dtypes"
   ]
  },
  {
   "cell_type": "code",
   "execution_count": 26,
   "id": "aae161df-a9c7-4c13-b659-13da8132060f",
   "metadata": {},
   "outputs": [
    {
     "data": {
      "text/plain": [
       "Dispatching_base_num       0\n",
       "Pickup_date                0\n",
       "Affiliated_base_num     1116\n",
       "locationID                 0\n",
       "dtype: int64"
      ]
     },
     "execution_count": 26,
     "metadata": {},
     "output_type": "execute_result"
    }
   ],
   "source": [
    "df.isnull().sum()"
   ]
  },
  {
   "cell_type": "code",
   "execution_count": 30,
   "id": "a96ac941-a941-4862-a694-15766dfeec71",
   "metadata": {},
   "outputs": [],
   "source": [
    "df[\"Pickup_date\"] = pd.to_datetime(df[\"Pickup_date\"])"
   ]
  },
  {
   "cell_type": "code",
   "execution_count": 31,
   "id": "ef9d29d9-e3ae-4a29-b1a7-77d8e8d9a2d7",
   "metadata": {},
   "outputs": [
    {
     "data": {
      "text/plain": [
       "Dispatching_base_num            object\n",
       "Pickup_date             datetime64[ns]\n",
       "Affiliated_base_num             object\n",
       "locationID                       int64\n",
       "dtype: object"
      ]
     },
     "execution_count": 31,
     "metadata": {},
     "output_type": "execute_result"
    }
   ],
   "source": [
    "df.dtypes"
   ]
  },
  {
   "cell_type": "code",
   "execution_count": 32,
   "id": "0e59aebe-22b2-4ab2-a642-bfa8b40d4a04",
   "metadata": {},
   "outputs": [
    {
     "data": {
      "text/plain": [
       "Timestamp('2015-05-02 21:43:00')"
      ]
     },
     "execution_count": 32,
     "metadata": {},
     "output_type": "execute_result"
    }
   ],
   "source": [
    "df[\"Pickup_date\"][0]"
   ]
  },
  {
   "cell_type": "code",
   "execution_count": 34,
   "id": "1bc59555-7653-4a01-9548-98e766e0239b",
   "metadata": {},
   "outputs": [
    {
     "data": {
      "text/plain": [
       "pandas._libs.tslibs.timestamps.Timestamp"
      ]
     },
     "execution_count": 34,
     "metadata": {},
     "output_type": "execute_result"
    }
   ],
   "source": [
    "type(df[\"Pickup_date\"][0])"
   ]
  },
  {
   "cell_type": "code",
   "execution_count": 37,
   "id": "6425f22a-dadf-47c4-bd0e-ac7305bc86d5",
   "metadata": {},
   "outputs": [
    {
     "data": {
      "text/plain": [
       "0            May\n",
       "1        January\n",
       "2          March\n",
       "3          April\n",
       "4          March\n",
       "          ...   \n",
       "99995      April\n",
       "99996      March\n",
       "99997      March\n",
       "99998        May\n",
       "99999       June\n",
       "Name: Pickup_date, Length: 99946, dtype: object"
      ]
     },
     "execution_count": 37,
     "metadata": {},
     "output_type": "execute_result"
    }
   ],
   "source": [
    "df[\"Pickup_date\"].dt.month_name()"
   ]
  },
  {
   "cell_type": "code",
   "execution_count": 38,
   "id": "e02fba24-c14c-4064-90eb-1aeaa427378b",
   "metadata": {},
   "outputs": [],
   "source": [
    "df[\"Month\"] = df[\"Pickup_date\"].dt.month_name()"
   ]
  },
  {
   "cell_type": "code",
   "execution_count": 39,
   "id": "e120c23b-44ed-4cc1-a0ea-11b5506baef7",
   "metadata": {},
   "outputs": [
    {
     "data": {
      "text/plain": [
       "0            May\n",
       "1        January\n",
       "2          March\n",
       "3          April\n",
       "4          March\n",
       "          ...   \n",
       "99995      April\n",
       "99996      March\n",
       "99997      March\n",
       "99998        May\n",
       "99999       June\n",
       "Name: Month, Length: 99946, dtype: object"
      ]
     },
     "execution_count": 39,
     "metadata": {},
     "output_type": "execute_result"
    }
   ],
   "source": [
    "df[\"Month\"]"
   ]
  },
  {
   "cell_type": "code",
   "execution_count": 40,
   "id": "fafd663a-7de6-47ff-80d2-d72852c07de7",
   "metadata": {},
   "outputs": [
    {
     "data": {
      "text/html": [
       "<div>\n",
       "<style scoped>\n",
       "    .dataframe tbody tr th:only-of-type {\n",
       "        vertical-align: middle;\n",
       "    }\n",
       "\n",
       "    .dataframe tbody tr th {\n",
       "        vertical-align: top;\n",
       "    }\n",
       "\n",
       "    .dataframe thead th {\n",
       "        text-align: right;\n",
       "    }\n",
       "</style>\n",
       "<table border=\"1\" class=\"dataframe\">\n",
       "  <thead>\n",
       "    <tr style=\"text-align: right;\">\n",
       "      <th></th>\n",
       "      <th>Dispatching_base_num</th>\n",
       "      <th>Pickup_date</th>\n",
       "      <th>Affiliated_base_num</th>\n",
       "      <th>locationID</th>\n",
       "      <th>Month</th>\n",
       "    </tr>\n",
       "  </thead>\n",
       "  <tbody>\n",
       "    <tr>\n",
       "      <th>0</th>\n",
       "      <td>B02617</td>\n",
       "      <td>2015-05-02 21:43:00</td>\n",
       "      <td>B02764</td>\n",
       "      <td>237</td>\n",
       "      <td>May</td>\n",
       "    </tr>\n",
       "    <tr>\n",
       "      <th>1</th>\n",
       "      <td>B02682</td>\n",
       "      <td>2015-01-20 19:52:59</td>\n",
       "      <td>B02682</td>\n",
       "      <td>231</td>\n",
       "      <td>January</td>\n",
       "    </tr>\n",
       "    <tr>\n",
       "      <th>2</th>\n",
       "      <td>B02617</td>\n",
       "      <td>2015-03-19 20:26:00</td>\n",
       "      <td>B02617</td>\n",
       "      <td>161</td>\n",
       "      <td>March</td>\n",
       "    </tr>\n",
       "    <tr>\n",
       "      <th>3</th>\n",
       "      <td>B02764</td>\n",
       "      <td>2015-04-10 17:38:00</td>\n",
       "      <td>B02764</td>\n",
       "      <td>107</td>\n",
       "      <td>April</td>\n",
       "    </tr>\n",
       "    <tr>\n",
       "      <th>4</th>\n",
       "      <td>B02764</td>\n",
       "      <td>2015-03-23 07:03:00</td>\n",
       "      <td>B00111</td>\n",
       "      <td>140</td>\n",
       "      <td>March</td>\n",
       "    </tr>\n",
       "    <tr>\n",
       "      <th>...</th>\n",
       "      <td>...</td>\n",
       "      <td>...</td>\n",
       "      <td>...</td>\n",
       "      <td>...</td>\n",
       "      <td>...</td>\n",
       "    </tr>\n",
       "    <tr>\n",
       "      <th>99995</th>\n",
       "      <td>B02764</td>\n",
       "      <td>2015-04-13 16:12:00</td>\n",
       "      <td>B02764</td>\n",
       "      <td>234</td>\n",
       "      <td>April</td>\n",
       "    </tr>\n",
       "    <tr>\n",
       "      <th>99996</th>\n",
       "      <td>B02764</td>\n",
       "      <td>2015-03-06 21:32:00</td>\n",
       "      <td>B02764</td>\n",
       "      <td>24</td>\n",
       "      <td>March</td>\n",
       "    </tr>\n",
       "    <tr>\n",
       "      <th>99997</th>\n",
       "      <td>B02598</td>\n",
       "      <td>2015-03-19 19:56:00</td>\n",
       "      <td>B02598</td>\n",
       "      <td>17</td>\n",
       "      <td>March</td>\n",
       "    </tr>\n",
       "    <tr>\n",
       "      <th>99998</th>\n",
       "      <td>B02682</td>\n",
       "      <td>2015-05-02 16:02:00</td>\n",
       "      <td>B02682</td>\n",
       "      <td>68</td>\n",
       "      <td>May</td>\n",
       "    </tr>\n",
       "    <tr>\n",
       "      <th>99999</th>\n",
       "      <td>B02764</td>\n",
       "      <td>2015-06-24 16:04:00</td>\n",
       "      <td>B02764</td>\n",
       "      <td>125</td>\n",
       "      <td>June</td>\n",
       "    </tr>\n",
       "  </tbody>\n",
       "</table>\n",
       "<p>99946 rows × 5 columns</p>\n",
       "</div>"
      ],
      "text/plain": [
       "      Dispatching_base_num         Pickup_date Affiliated_base_num  \\\n",
       "0                   B02617 2015-05-02 21:43:00              B02764   \n",
       "1                   B02682 2015-01-20 19:52:59              B02682   \n",
       "2                   B02617 2015-03-19 20:26:00              B02617   \n",
       "3                   B02764 2015-04-10 17:38:00              B02764   \n",
       "4                   B02764 2015-03-23 07:03:00              B00111   \n",
       "...                    ...                 ...                 ...   \n",
       "99995               B02764 2015-04-13 16:12:00              B02764   \n",
       "99996               B02764 2015-03-06 21:32:00              B02764   \n",
       "99997               B02598 2015-03-19 19:56:00              B02598   \n",
       "99998               B02682 2015-05-02 16:02:00              B02682   \n",
       "99999               B02764 2015-06-24 16:04:00              B02764   \n",
       "\n",
       "       locationID    Month  \n",
       "0             237      May  \n",
       "1             231  January  \n",
       "2             161    March  \n",
       "3             107    April  \n",
       "4             140    March  \n",
       "...           ...      ...  \n",
       "99995         234    April  \n",
       "99996          24    March  \n",
       "99997          17    March  \n",
       "99998          68      May  \n",
       "99999         125     June  \n",
       "\n",
       "[99946 rows x 5 columns]"
      ]
     },
     "execution_count": 40,
     "metadata": {},
     "output_type": "execute_result"
    }
   ],
   "source": [
    "df"
   ]
  },
  {
   "cell_type": "code",
   "execution_count": 41,
   "id": "89b7f949-88f3-4185-9e25-7ac37821ee7b",
   "metadata": {},
   "outputs": [
    {
     "data": {
      "text/plain": [
       "Month\n",
       "June        19620\n",
       "May         18660\n",
       "April       15982\n",
       "March       15969\n",
       "February    15896\n",
       "January     13819\n",
       "Name: count, dtype: int64"
      ]
     },
     "execution_count": 41,
     "metadata": {},
     "output_type": "execute_result"
    }
   ],
   "source": [
    "df[\"Month\"].value_counts()"
   ]
  },
  {
   "cell_type": "code",
   "execution_count": 42,
   "id": "37c4c8b3-a76a-45d5-b33d-5394d23e5584",
   "metadata": {},
   "outputs": [
    {
     "data": {
      "text/plain": [
       "<Axes: xlabel='Month'>"
      ]
     },
     "execution_count": 42,
     "metadata": {},
     "output_type": "execute_result"
    },
    {
     "data": {
      "image/png": "[encoded data removed]",
      "text/plain": [
       "<Figure size 640x480 with 1 Axes>"
      ]
     },
     "metadata": {},
     "output_type": "display_data"
    }
   ],
   "source": [
    "df[\"Month\"].value_counts().plot()"
   ]
  },
  {
   "cell_type": "code",
   "execution_count": 56,
   "id": "5a22b2f2-5b2d-4bb8-9037-f0ec20018349",
   "metadata": {},
   "outputs": [
    {
     "data": {
      "text/plain": [
       "<Axes: xlabel='Month'>"
      ]
     },
     "execution_count": 56,
     "metadata": {},
     "output_type": "execute_result"
    },
    {
     "data": {
      "image/png": "[encoded data removed]",
      "text/plain": [
       "<Figure size 640x480 with 1 Axes>"
      ]
     },
     "metadata": {},
     "output_type": "display_data"
    }
   ],
   "source": [
    "df[\"Month\"].value_counts().plot(kind=\"bar\")"
   ]
  },
  {
   "cell_type": "code",
   "execution_count": 55,
   "id": "a1892b38-5129-4abe-9f4c-cd28a14c89e4",
   "metadata": {},
   "outputs": [
    {
     "data": {
      "text/html": [
       "<div>\n",
       "<style scoped>\n",
       "    .dataframe tbody tr th:only-of-type {\n",
       "        vertical-align: middle;\n",
       "    }\n",
       "\n",
       "    .dataframe tbody tr th {\n",
       "        vertical-align: top;\n",
       "    }\n",
       "\n",
       "    .dataframe thead th {\n",
       "        text-align: right;\n",
       "    }\n",
       "</style>\n",
       "<table border=\"1\" class=\"dataframe\">\n",
       "  <thead>\n",
       "    <tr style=\"text-align: right;\">\n",
       "      <th></th>\n",
       "      <th>Dispatching_base_num</th>\n",
       "      <th>Pickup_date</th>\n",
       "      <th>Affiliated_base_num</th>\n",
       "      <th>locationID</th>\n",
       "      <th>Month</th>\n",
       "    </tr>\n",
       "  </thead>\n",
       "  <tbody>\n",
       "    <tr>\n",
       "      <th>5</th>\n",
       "      <td>B02617</td>\n",
       "      <td>2015-05-03 19:42:00</td>\n",
       "      <td>B02617</td>\n",
       "      <td>87</td>\n",
       "      <td>May</td>\n",
       "    </tr>\n",
       "    <tr>\n",
       "      <th>7</th>\n",
       "      <td>B02764</td>\n",
       "      <td>2015-05-14 15:52:00</td>\n",
       "      <td>B02764</td>\n",
       "      <td>68</td>\n",
       "      <td>May</td>\n",
       "    </tr>\n",
       "    <tr>\n",
       "      <th>19</th>\n",
       "      <td>B02617</td>\n",
       "      <td>2015-02-02 14:59:33</td>\n",
       "      <td>B02617</td>\n",
       "      <td>68</td>\n",
       "      <td>February</td>\n",
       "    </tr>\n",
       "    <tr>\n",
       "      <th>33</th>\n",
       "      <td>B02764</td>\n",
       "      <td>2015-02-24 20:12:26</td>\n",
       "      <td>B02764</td>\n",
       "      <td>97</td>\n",
       "      <td>February</td>\n",
       "    </tr>\n",
       "    <tr>\n",
       "      <th>36</th>\n",
       "      <td>B02764</td>\n",
       "      <td>2015-01-12 14:08:58</td>\n",
       "      <td>B02764</td>\n",
       "      <td>87</td>\n",
       "      <td>January</td>\n",
       "    </tr>\n",
       "    <tr>\n",
       "      <th>...</th>\n",
       "      <td>...</td>\n",
       "      <td>...</td>\n",
       "      <td>...</td>\n",
       "      <td>...</td>\n",
       "      <td>...</td>\n",
       "    </tr>\n",
       "    <tr>\n",
       "      <th>99970</th>\n",
       "      <td>B02764</td>\n",
       "      <td>2015-04-26 19:10:00</td>\n",
       "      <td>B02764</td>\n",
       "      <td>85</td>\n",
       "      <td>April</td>\n",
       "    </tr>\n",
       "    <tr>\n",
       "      <th>99975</th>\n",
       "      <td>B02598</td>\n",
       "      <td>2015-02-27 13:37:23</td>\n",
       "      <td>B02512</td>\n",
       "      <td>68</td>\n",
       "      <td>February</td>\n",
       "    </tr>\n",
       "    <tr>\n",
       "      <th>99981</th>\n",
       "      <td>B02764</td>\n",
       "      <td>2015-06-25 16:01:00</td>\n",
       "      <td>B02788</td>\n",
       "      <td>68</td>\n",
       "      <td>June</td>\n",
       "    </tr>\n",
       "    <tr>\n",
       "      <th>99987</th>\n",
       "      <td>B02765</td>\n",
       "      <td>2015-04-12 01:37:00</td>\n",
       "      <td>B02765</td>\n",
       "      <td>79</td>\n",
       "      <td>April</td>\n",
       "    </tr>\n",
       "    <tr>\n",
       "      <th>99998</th>\n",
       "      <td>B02682</td>\n",
       "      <td>2015-05-02 16:02:00</td>\n",
       "      <td>B02682</td>\n",
       "      <td>68</td>\n",
       "      <td>May</td>\n",
       "    </tr>\n",
       "  </tbody>\n",
       "</table>\n",
       "<p>14014 rows × 5 columns</p>\n",
       "</div>"
      ],
      "text/plain": [
       "      Dispatching_base_num         Pickup_date Affiliated_base_num  \\\n",
       "5                   B02617 2015-05-03 19:42:00              B02617   \n",
       "7                   B02764 2015-05-14 15:52:00              B02764   \n",
       "19                  B02617 2015-02-02 14:59:33              B02617   \n",
       "33                  B02764 2015-02-24 20:12:26              B02764   \n",
       "36                  B02764 2015-01-12 14:08:58              B02764   \n",
       "...                    ...                 ...                 ...   \n",
       "99970               B02764 2015-04-26 19:10:00              B02764   \n",
       "99975               B02598 2015-02-27 13:37:23              B02512   \n",
       "99981               B02764 2015-06-25 16:01:00              B02788   \n",
       "99987               B02765 2015-04-12 01:37:00              B02765   \n",
       "99998               B02682 2015-05-02 16:02:00              B02682   \n",
       "\n",
       "       locationID     Month  \n",
       "5              87       May  \n",
       "7              68       May  \n",
       "19             68  February  \n",
       "33             97  February  \n",
       "36             87   January  \n",
       "...           ...       ...  \n",
       "99970          85     April  \n",
       "99975          68  February  \n",
       "99981          68      June  \n",
       "99987          79     April  \n",
       "99998          68       May  \n",
       "\n",
       "[14014 rows x 5 columns]"
      ]
     },
     "execution_count": 55,
     "metadata": {},
     "output_type": "execute_result"
    }
   ],
   "source": [
    "df[(df[\"locationID\"] > 50) & (df[\"locationID\"] < 100)]"
   ]
  },
  {
   "cell_type": "code",
   "execution_count": 59,
   "id": "537b91fd-539a-4522-8903-67c67ace901b",
   "metadata": {},
   "outputs": [],
   "source": [
    "df['weekday'] = df[\"Pickup_date\"].dt.day_name()"
   ]
  },
  {
   "cell_type": "code",
   "execution_count": 61,
   "id": "5c244522-f46b-4999-a8de-67f8df9c4c36",
   "metadata": {},
   "outputs": [],
   "source": [
    "pivot = pd.crosstab(index = df[\"Month\"], columns = df[\"weekday\"])"
   ]
  },
  {
   "cell_type": "code",
   "execution_count": 62,
   "id": "19b3d821-68c2-4d3c-b434-80f0df089a24",
   "metadata": {},
   "outputs": [
    {
     "data": {
      "text/html": [
       "<div>\n",
       "<style scoped>\n",
       "    .dataframe tbody tr th:only-of-type {\n",
       "        vertical-align: middle;\n",
       "    }\n",
       "\n",
       "    .dataframe tbody tr th {\n",
       "        vertical-align: top;\n",
       "    }\n",
       "\n",
       "    .dataframe thead th {\n",
       "        text-align: right;\n",
       "    }\n",
       "</style>\n",
       "<table border=\"1\" class=\"dataframe\">\n",
       "  <thead>\n",
       "    <tr style=\"text-align: right;\">\n",
       "      <th>weekday</th>\n",
       "      <th>Friday</th>\n",
       "      <th>Monday</th>\n",
       "      <th>Saturday</th>\n",
       "      <th>Sunday</th>\n",
       "      <th>Thursday</th>\n",
       "      <th>Tuesday</th>\n",
       "      <th>Wednesday</th>\n",
       "    </tr>\n",
       "    <tr>\n",
       "      <th>Month</th>\n",
       "      <th></th>\n",
       "      <th></th>\n",
       "      <th></th>\n",
       "      <th></th>\n",
       "      <th></th>\n",
       "      <th></th>\n",
       "      <th></th>\n",
       "    </tr>\n",
       "  </thead>\n",
       "  <tbody>\n",
       "    <tr>\n",
       "      <th>April</th>\n",
       "      <td>2365</td>\n",
       "      <td>1833</td>\n",
       "      <td>2508</td>\n",
       "      <td>2052</td>\n",
       "      <td>2823</td>\n",
       "      <td>1880</td>\n",
       "      <td>2521</td>\n",
       "    </tr>\n",
       "    <tr>\n",
       "      <th>February</th>\n",
       "      <td>2655</td>\n",
       "      <td>1970</td>\n",
       "      <td>2550</td>\n",
       "      <td>2183</td>\n",
       "      <td>2396</td>\n",
       "      <td>2129</td>\n",
       "      <td>2013</td>\n",
       "    </tr>\n",
       "    <tr>\n",
       "      <th>January</th>\n",
       "      <td>2508</td>\n",
       "      <td>1353</td>\n",
       "      <td>2745</td>\n",
       "      <td>1651</td>\n",
       "      <td>2378</td>\n",
       "      <td>1444</td>\n",
       "      <td>1740</td>\n",
       "    </tr>\n",
       "    <tr>\n",
       "      <th>June</th>\n",
       "      <td>2793</td>\n",
       "      <td>2848</td>\n",
       "      <td>3037</td>\n",
       "      <td>2485</td>\n",
       "      <td>2767</td>\n",
       "      <td>3187</td>\n",
       "      <td>2503</td>\n",
       "    </tr>\n",
       "    <tr>\n",
       "      <th>March</th>\n",
       "      <td>2465</td>\n",
       "      <td>2115</td>\n",
       "      <td>2522</td>\n",
       "      <td>2379</td>\n",
       "      <td>2093</td>\n",
       "      <td>2388</td>\n",
       "      <td>2007</td>\n",
       "    </tr>\n",
       "    <tr>\n",
       "      <th>May</th>\n",
       "      <td>3262</td>\n",
       "      <td>1865</td>\n",
       "      <td>3519</td>\n",
       "      <td>2944</td>\n",
       "      <td>2627</td>\n",
       "      <td>2115</td>\n",
       "      <td>2328</td>\n",
       "    </tr>\n",
       "  </tbody>\n",
       "</table>\n",
       "</div>"
      ],
      "text/plain": [
       "weekday   Friday  Monday  Saturday  Sunday  Thursday  Tuesday  Wednesday\n",
       "Month                                                                   \n",
       "April       2365    1833      2508    2052      2823     1880       2521\n",
       "February    2655    1970      2550    2183      2396     2129       2013\n",
       "January     2508    1353      2745    1651      2378     1444       1740\n",
       "June        2793    2848      3037    2485      2767     3187       2503\n",
       "March       2465    2115      2522    2379      2093     2388       2007\n",
       "May         3262    1865      3519    2944      2627     2115       2328"
      ]
     },
     "execution_count": 62,
     "metadata": {},
     "output_type": "execute_result"
    }
   ],
   "source": [
    "pivot"
   ]
  },
  {
   "cell_type": "code",
   "execution_count": 69,
   "id": "6aa0f34f-1944-49a4-9e36-d94acf3654eb",
   "metadata": {},
   "outputs": [
    {
     "data": {
      "text/plain": [
       "<Axes: xlabel='Month'>"
      ]
     },
     "execution_count": 69,
     "metadata": {},
     "output_type": "execute_result"
    },
    {
     "data": {
      "image/png": "[encoded data removed]",
      "text/plain": [
       "<Figure size 640x480 with 1 Axes>"
      ]
     },
     "metadata": {},
     "output_type": "display_data"
    }
   ],
   "source": [
    "pivot.plot(kind = \"bar\")"
   ]
  },
  {
   "cell_type": "code",
   "execution_count": 72,
   "id": "7753de2c-1c5b-4671-bea4-01d713b10af5",
   "metadata": {},
   "outputs": [
    {
     "data": {
      "text/plain": [
       "<Axes: xlabel='Month'>"
      ]
     },
     "execution_count": 72,
     "metadata": {},
     "output_type": "execute_result"
    },
    {
     "data": {
      "image/png": "[encoded data removed]",
      "text/plain": [
       "<Figure size 800x600 with 1 Axes>"
      ]
     },
     "metadata": {},
     "output_type": "display_data"
    }
   ],
   "source": [
    "pivot.plot(kind = \"bar\", figsize = (8,6))"
   ]
  },
  {
   "cell_type": "code",
   "execution_count": 74,
   "id": "a4b1d8da-b87d-412d-98e4-058c991a044d",
   "metadata": {},
   "outputs": [],
   "source": [
    "df[\"hour\"] = df[\"Pickup_date\"].dt.hour"
   ]
  },
  {
   "cell_type": "code",
   "execution_count": 75,
   "id": "ac97fae0-58f0-41f5-8782-1a353f05c467",
   "metadata": {},
   "outputs": [
    {
     "data": {
      "text/html": [
       "<div>\n",
       "<style scoped>\n",
       "    .dataframe tbody tr th:only-of-type {\n",
       "        vertical-align: middle;\n",
       "    }\n",
       "\n",
       "    .dataframe tbody tr th {\n",
       "        vertical-align: top;\n",
       "    }\n",
       "\n",
       "    .dataframe thead th {\n",
       "        text-align: right;\n",
       "    }\n",
       "</style>\n",
       "<table border=\"1\" class=\"dataframe\">\n",
       "  <thead>\n",
       "    <tr style=\"text-align: right;\">\n",
       "      <th></th>\n",
       "      <th>Dispatching_base_num</th>\n",
       "      <th>Pickup_date</th>\n",
       "      <th>Affiliated_base_num</th>\n",
       "      <th>locationID</th>\n",
       "      <th>Month</th>\n",
       "      <th>weekday</th>\n",
       "      <th>hour</th>\n",
       "    </tr>\n",
       "  </thead>\n",
       "  <tbody>\n",
       "    <tr>\n",
       "      <th>0</th>\n",
       "      <td>B02617</td>\n",
       "      <td>2015-05-02 21:43:00</td>\n",
       "      <td>B02764</td>\n",
       "      <td>237</td>\n",
       "      <td>May</td>\n",
       "      <td>Saturday</td>\n",
       "      <td>21</td>\n",
       "    </tr>\n",
       "    <tr>\n",
       "      <th>1</th>\n",
       "      <td>B02682</td>\n",
       "      <td>2015-01-20 19:52:59</td>\n",
       "      <td>B02682</td>\n",
       "      <td>231</td>\n",
       "      <td>January</td>\n",
       "      <td>Tuesday</td>\n",
       "      <td>19</td>\n",
       "    </tr>\n",
       "    <tr>\n",
       "      <th>2</th>\n",
       "      <td>B02617</td>\n",
       "      <td>2015-03-19 20:26:00</td>\n",
       "      <td>B02617</td>\n",
       "      <td>161</td>\n",
       "      <td>March</td>\n",
       "      <td>Thursday</td>\n",
       "      <td>20</td>\n",
       "    </tr>\n",
       "    <tr>\n",
       "      <th>3</th>\n",
       "      <td>B02764</td>\n",
       "      <td>2015-04-10 17:38:00</td>\n",
       "      <td>B02764</td>\n",
       "      <td>107</td>\n",
       "      <td>April</td>\n",
       "      <td>Friday</td>\n",
       "      <td>17</td>\n",
       "    </tr>\n",
       "    <tr>\n",
       "      <th>4</th>\n",
       "      <td>B02764</td>\n",
       "      <td>2015-03-23 07:03:00</td>\n",
       "      <td>B00111</td>\n",
       "      <td>140</td>\n",
       "      <td>March</td>\n",
       "      <td>Monday</td>\n",
       "      <td>7</td>\n",
       "    </tr>\n",
       "    <tr>\n",
       "      <th>...</th>\n",
       "      <td>...</td>\n",
       "      <td>...</td>\n",
       "      <td>...</td>\n",
       "      <td>...</td>\n",
       "      <td>...</td>\n",
       "      <td>...</td>\n",
       "      <td>...</td>\n",
       "    </tr>\n",
       "    <tr>\n",
       "      <th>99995</th>\n",
       "      <td>B02764</td>\n",
       "      <td>2015-04-13 16:12:00</td>\n",
       "      <td>B02764</td>\n",
       "      <td>234</td>\n",
       "      <td>April</td>\n",
       "      <td>Monday</td>\n",
       "      <td>16</td>\n",
       "    </tr>\n",
       "    <tr>\n",
       "      <th>99996</th>\n",
       "      <td>B02764</td>\n",
       "      <td>2015-03-06 21:32:00</td>\n",
       "      <td>B02764</td>\n",
       "      <td>24</td>\n",
       "      <td>March</td>\n",
       "      <td>Friday</td>\n",
       "      <td>21</td>\n",
       "    </tr>\n",
       "    <tr>\n",
       "      <th>99997</th>\n",
       "      <td>B02598</td>\n",
       "      <td>2015-03-19 19:56:00</td>\n",
       "      <td>B02598</td>\n",
       "      <td>17</td>\n",
       "      <td>March</td>\n",
       "      <td>Thursday</td>\n",
       "      <td>19</td>\n",
       "    </tr>\n",
       "    <tr>\n",
       "      <th>99998</th>\n",
       "      <td>B02682</td>\n",
       "      <td>2015-05-02 16:02:00</td>\n",
       "      <td>B02682</td>\n",
       "      <td>68</td>\n",
       "      <td>May</td>\n",
       "      <td>Saturday</td>\n",
       "      <td>16</td>\n",
       "    </tr>\n",
       "    <tr>\n",
       "      <th>99999</th>\n",
       "      <td>B02764</td>\n",
       "      <td>2015-06-24 16:04:00</td>\n",
       "      <td>B02764</td>\n",
       "      <td>125</td>\n",
       "      <td>June</td>\n",
       "      <td>Wednesday</td>\n",
       "      <td>16</td>\n",
       "    </tr>\n",
       "  </tbody>\n",
       "</table>\n",
       "<p>99946 rows × 7 columns</p>\n",
       "</div>"
      ],
      "text/plain": [
       "      Dispatching_base_num         Pickup_date Affiliated_base_num  \\\n",
       "0                   B02617 2015-05-02 21:43:00              B02764   \n",
       "1                   B02682 2015-01-20 19:52:59              B02682   \n",
       "2                   B02617 2015-03-19 20:26:00              B02617   \n",
       "3                   B02764 2015-04-10 17:38:00              B02764   \n",
       "4                   B02764 2015-03-23 07:03:00              B00111   \n",
       "...                    ...                 ...                 ...   \n",
       "99995               B02764 2015-04-13 16:12:00              B02764   \n",
       "99996               B02764 2015-03-06 21:32:00              B02764   \n",
       "99997               B02598 2015-03-19 19:56:00              B02598   \n",
       "99998               B02682 2015-05-02 16:02:00              B02682   \n",
       "99999               B02764 2015-06-24 16:04:00              B02764   \n",
       "\n",
       "       locationID    Month    weekday  hour  \n",
       "0             237      May   Saturday    21  \n",
       "1             231  January    Tuesday    19  \n",
       "2             161    March   Thursday    20  \n",
       "3             107    April     Friday    17  \n",
       "4             140    March     Monday     7  \n",
       "...           ...      ...        ...   ...  \n",
       "99995         234    April     Monday    16  \n",
       "99996          24    March     Friday    21  \n",
       "99997          17    March   Thursday    19  \n",
       "99998          68      May   Saturday    16  \n",
       "99999         125     June  Wednesday    16  \n",
       "\n",
       "[99946 rows x 7 columns]"
      ]
     },
     "execution_count": 75,
     "metadata": {},
     "output_type": "execute_result"
    }
   ],
   "source": [
    "df"
   ]
  },
  {
   "cell_type": "code",
   "execution_count": 87,
   "id": "c106601f-6b66-47eb-80be-485239a512c5",
   "metadata": {},
   "outputs": [],
   "source": [
    "plot1 = df.groupby([\"weekday\", \"hour\"], as_index = False).size()"
   ]
  },
  {
   "cell_type": "code",
   "execution_count": null,
   "id": "21208b3d-9654-432a-9106-d0701da81acf",
   "metadata": {},
   "outputs": [],
   "source": []
  },
  {
   "cell_type": "code",
   "execution_count": null,
   "id": "d0ee5476-e0df-4386-b5b1-9934f9dca1f5",
   "metadata": {},
   "outputs": [],
   "source": []
  },
  {
   "cell_type": "code",
   "execution_count": 92,
   "id": "214e8039-a53a-4b6e-aa73-3291f0a9a557",
   "metadata": {},
   "outputs": [
    {
     "data": {
      "text/plain": [
       "<Axes: xlabel='hour', ylabel='size'>"
      ]
     },
     "execution_count": 92,
     "metadata": {},
     "output_type": "execute_result"
    },
    {
     "data": {
      "image/png": "[encoded data removed]",
      "text/plain": [
       "<Figure size 800x600 with 1 Axes>"
      ]
     },
     "metadata": {},
     "output_type": "display_data"
    }
   ],
   "source": [
    "plt.figure(figsize = (8,6))\n",
    "sns.pointplot(x=\"hour\", y=\"size\", hue=\"weekday\", data = plot1)"
   ]
  },
  {
   "cell_type": "code",
   "execution_count": null,
   "id": "17fb0759-22f4-4fb5-b5c7-ea2af0bc0037",
   "metadata": {},
   "outputs": [],
   "source": []
  }
 ],
 "metadata": {
  "kernelspec": {
   "display_name": "Python [conda env:base] *",
   "language": "python",
   "name": "conda-base-py"
  },
  "language_info": {
   "codemirror_mode": {
    "name": "ipython",
    "version": 3
   },
   "file_extension": ".py",
   "mimetype": "text/x-python",
   "name": "python",
   "nbconvert_exporter": "python",
   "pygments_lexer": "ipython3",
   "version": "3.13.5"
  }
 },
 "nbformat": 4,
 "nbformat_minor": 5
}
